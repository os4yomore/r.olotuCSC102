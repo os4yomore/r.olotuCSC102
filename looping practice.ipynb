{
 "cells": [
  {
   "cell_type": "code",
   "execution_count": 2,
   "id": "b5c4dde8",
   "metadata": {},
   "outputs": [
    {
     "name": "stdout",
     "output_type": "stream",
     "text": [
      "The traditional birthstone for this month is:  Citrine\n",
      "The modern birthstone for this month is:  Yellow Topaz, Citrine\n"
     ]
    }
   ],
   "source": [
    "birthmonth = ['January', 'February', 'March', 'April', 'May', 'June', 'July', 'August', 'Septmeber', 'October', 'November', 'December']\n",
    "mbirthstone = ['Garnet', 'Amethyst', 'Aquamarine', 'Diamond', 'Emerald', 'Pearl, Moonstone', 'Ruby', 'Peridot', 'Sapphire', 'Opal, Tourmaline', 'Yellow Topaz, Citrine', 'Blue Topaz, Turquoise']\n",
    "tbirthstone = ['Garnet', 'Amethyst', 'Bloodstone', 'Diamond', 'Emerald', 'Alexandrite', 'Ruby', 'Sardonyx', 'Sapphire', 'Tourmaline', 'Citrine', 'Zircon, Turquoise, Lapis Lazuli']  \n",
    "\n",
    "num = int(input(\"How many times do you wish to enter a birthmonth? \"))\n",
    "\n",
    "for x in range(num):\n",
    "    month = int(input(\"What is the number of the birthmonth of this customer? (1 - 12): \" ))\n",
    "    x = month - 1\n",
    "    print(\"The traditional birthstone for this month is: \",  tbirthstone[x])\n",
    "    print(\"The modern birthstone for this month is: \", mbirthstone[x])\n",
    "    \n",
    "              \n",
    "\n",
    "              \n",
    "              "
   ]
  },
  {
   "cell_type": "code",
   "execution_count": null,
   "id": "82019745",
   "metadata": {},
   "outputs": [
    {
     "name": "stdout",
     "output_type": "stream",
     "text": [
      "How many times do you wish to calculate resistance 1\n",
      "Hello User, please input the colours of the resistors as separated by a hyphen band eg. red-green-black\n",
      "yellow-grey-black\n",
      "The resistance of the resistor is: 48 ohms\n"
     ]
    }
   ],
   "source": [
    "colours = {'black' : 0, 'brown': 1, 'red': 2, 'orange' : 3, 'yellow' : 4, 'green': 5, 'blue': 6, 'violet': 7, 'grey': 8, 'white': 9}\n",
    "multipliers = [1,10,100,1000,10000,100000,1000000,10000000,100000000,1000000000]\n",
    "\n",
    "\n",
    "num = int(input(\"How many times do you wish to calculate resistance \"))\n",
    "\n",
    "for x in range(num):\n",
    "    print(\"Hello User, please input the colours of the resistors as separated by a hyphen band eg. red-green-black\")\n",
    "\n",
    "    x = input().split('-')\n",
    "\n",
    "    values = [colours[i.lower()] for i in x]\n",
    "\n",
    "    resistance = (values[0] * 10 + values[1]) * multipliers[values[2]]\n",
    "\n",
    "    print(f\"The resistance of the resistor is: {resistance} ohms\")\n",
    "\n",
    "\n",
    "\n"
   ]
  },
  {
   "cell_type": "code",
   "execution_count": null,
   "id": "92a53731",
   "metadata": {},
   "outputs": [
    {
     "name": "stdout",
     "output_type": "stream",
     "text": [
      "How many times do you wish to see an element of the fibonacci sequence? 2\n",
      "What element of the fibonacci sequence would you like to see? 1\n",
      "1\n",
      "What element of the fibonacci sequence would you like to see? 23\n",
      "28657\n"
     ]
    }
   ],
   "source": [
    "fib = [0, 1]  \n",
    "\n",
    "for i in range(2, 50):\n",
    "    next_fib = fib[i - 1] + fib[i - 2]\n",
    "    fib.append(next_fib)\n",
    "    \n",
    "num = int(input(\"How many times do you wish to see an element of the fibonacci sequence? \"))\n",
    "\n",
    "for x in range(num):\n",
    "    user = int(input(\"What element of the fibonacci sequence would you like to see? \"))\n",
    "    print(fib[user])\n"
   ]
  }
 ],
 "metadata": {
  "kernelspec": {
   "display_name": "Python 3",
   "language": "python",
   "name": "python3"
  },
  "language_info": {
   "codemirror_mode": {
    "name": "ipython",
    "version": 3
   },
   "file_extension": ".py",
   "mimetype": "text/x-python",
   "name": "python",
   "nbconvert_exporter": "python",
   "pygments_lexer": "ipython3",
   "version": "3.10.9"
  },
  "vscode": {
   "interpreter": {
    "hash": "31f2aee4e71d21fbe5cf8b01ff0e069b9275f58929596ceb00d14d90e3e16cd6"
   }
  }
 },
 "nbformat": 4,
 "nbformat_minor": 5
}
