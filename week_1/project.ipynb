{
 "cells": [
  {
   "cell_type": "code",
   "execution_count": 10,
   "id": "c9701750-9445-42bc-8052-738f3e345248",
   "metadata": {},
   "outputs": [
    {
     "name": "stdout",
     "output_type": "stream",
     "text": [
      "Welcome User\n",
      "If you want to calculate Simple Interest, Click 1.\n",
      "If you want to calculate Compound Interest, Click 2.\n",
      "If you want to calculate Annuity Plan Payments, Click 3.\n"
     ]
    }
   ],
   "source": [
    "print(\"Welcome User\")\n",
    "print(\"If you want to calculate Simple Interest, Click 1.\")\n",
    "print(\"If you want to calculate Compound Interest, Click 2.\")\n",
    "print(\"If you want to calculate Annuity Plan Payments, Click 3.\")"
   ]
  },
  {
   "cell_type": "code",
   "execution_count": 27,
   "id": "47a91a02-bd2c-4ffa-bc93-95cb9a496af7",
   "metadata": {},
   "outputs": [
    {
     "name": "stdin",
     "output_type": "stream",
     "text": [
      "Option 1, 2, or 3? 3\n",
      "What is the period cash payment (PMT)? 3\n",
      "What is the interest rate? 3\n",
      "For how much time (in years)? 3\n",
      "What is the total number of compounding periods per year? 3\n"
     ]
    },
    {
     "name": "stdout",
     "output_type": "stream",
     "text": [
      "Total Amount is: 28.105581805308265\n"
     ]
    }
   ],
   "source": [
    "option = int(input(\"Option 1, 2, or 3?\"))\n",
    "\n",
    "\n",
    "if option == 1:\n",
    "    p = int(input(\"What is the starting principal?\"))\n",
    "    r = int(input(\"What is the interest rate?\"))\n",
    "    t = int(input(\"For how much time (in years)?\")) \n",
    "    i = (p * r * t)/100\n",
    "    print(\"Simple Interest is:\", (i)) \n",
    "    a = i + p \n",
    "    print(\"Total Amount is:\", (a))\n",
    "    \n",
    "elif option == 2:\n",
    "    p = int(input(\"What is the starting principal?\"))\n",
    "    r = int(input(\"What is the interest rate?\"))\n",
    "    t = int(input(\"For how much time (in years)?\"))\n",
    "    n = int(input(\"What is the total number of compounding periods per year?\"))\n",
    "    a = p * (1 + ((r/100) / n)) ** (n * t)\n",
    "    print(\"Total Amount is:\", (a))\n",
    "    \n",
    "elif option == 3:\n",
    "    p = int(input(\"What is the period cash payment (PMT)?\"))\n",
    "    r = int(input(\"What is the interest rate?\"))\n",
    "    t = int(input(\"For how much time (in years)?\"))\n",
    "    n = int(input(\"What is the total number of compounding periods per year?\"))\n",
    "    a = p * ((1 + ((r/100) / n)) ** (n * t) - 1) / ((r/100)/n)\n",
    "    print(\"Total Amount is:\", (a))\n",
    "    \n",
    "    \n",
    "    \n",
    "    "
   ]
  },
  {
   "cell_type": "code",
   "execution_count": null,
   "id": "c24f51c2-5a37-4ee8-86d4-80fd1e5f133b",
   "metadata": {},
   "outputs": [],
   "source": []
  }
 ],
 "metadata": {
  "kernelspec": {
   "display_name": "Python 3 (ipykernel)",
   "language": "python",
   "name": "python3"
  },
  "language_info": {
   "codemirror_mode": {
    "name": "ipython",
    "version": 3
   },
   "file_extension": ".py",
   "mimetype": "text/x-python",
   "name": "python",
   "nbconvert_exporter": "python",
   "pygments_lexer": "ipython3",
   "version": "3.10.9"
  }
 },
 "nbformat": 4,
 "nbformat_minor": 5
}
