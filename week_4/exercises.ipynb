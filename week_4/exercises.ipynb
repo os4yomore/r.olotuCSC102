{
 "cells": [
  {
   "cell_type": "code",
   "execution_count": 1,
   "id": "a6a37cdf",
   "metadata": {},
   "outputs": [
    {
     "name": "stdout",
     "output_type": "stream",
     "text": [
      "Enter name of city 1: Lekki\n",
      "Enter name of city 2: Ikeja\n",
      "The name of city 1 after swapping is Ikeja\n",
      "The name of city 2 after swapping is Lekki\n"
     ]
    }
   ],
   "source": [
    "#swapping 2 cities\n",
    "\n",
    "city_1 = input(\"Enter name of city 1: \")\n",
    "city_2 = input(\"Enter name of city 2: \")\n",
    "\n",
    "temp = city_1\n",
    "city_1 = city_2\n",
    "city_2 = temp\n",
    "\n",
    "print(f\"The name of city 1 after swapping is {city_1}\")\n",
    "print(f\"The name of city 2 after swapping is {city_2}\")"
   ]
  },
  {
   "cell_type": "code",
   "execution_count": 2,
   "id": "75ab75fe",
   "metadata": {},
   "outputs": [
    {
     "name": "stdout",
     "output_type": "stream",
     "text": [
      "Enter a number: 3\n",
      "Positive number\n"
     ]
    }
   ],
   "source": [
    "num = float(input(\"Enter a number: \"))\n",
    "if num > 0:\n",
    "    print(\"Positive number\")\n",
    "elif num == 0:\n",
    "    print('Number id zero')\n",
    "else:\n",
    "    print(\"Negative number\")"
   ]
  },
  {
   "cell_type": "code",
   "execution_count": 9,
   "id": "61716254",
   "metadata": {},
   "outputs": [
    {
     "name": "stdout",
     "output_type": "stream",
     "text": [
      "Welcome to THE COUPE DE ESCRIVA 2023: FOOTBALL PICKS \n",
      "\n",
      "Madiba:  Chubby Obiora-Okaifo\n",
      "Blue-Jays:  Christopher Uweh\n",
      "Cirok:  Alexander\n",
      "TSG Walkers:  Ikechukwu\n",
      "\n",
      "\n",
      "Madiba:  Chubby Obiora-Okaifo\n",
      "Blue-Jays:  Oladimeji Abaniwonda/Jeffrey Awagu\n",
      "Cirok:  Timilehin Pearse/Izuoka Jeremy\n",
      "TSG Walkers:  Ayomide Ojituku\n"
     ]
    }
   ],
   "source": [
    "print(\"Welcome to THE COUPE DE ESCRIVA 2023: FOOTBALL PICKS \\n\")\n",
    "captain = {'Madiba: ': 'Chubby Obiora-Okaifo', 'Blue-Jays: ': 'Christopher Uweh',\n",
    "           'Cirok: ': 'Alexander', 'TSG Walkers: ': 'Ikechukwu'}\n",
    "\n",
    "goalkeepers = {'Madiba: ':'Chubby Obiora-Okaifo',\n",
    "              'Blue-Jays: ': \"Oladimeji Abaniwonda/Jeffrey Awagu\",\n",
    "              'Cirok: ': 'Timilehin Pearse/Izuoka Jeremy',\n",
    "              'TSG Walkers: ': 'Ayomide Ojituku'}\n",
    "\n",
    "for pick in captain:\n",
    "    print(pick, captain[pick])\n",
    "    \n",
    "print(\"\\n\")\n",
    "\n",
    "for pick in goalkeepers:\n",
    "    print(pick, goalkeepers[pick])\n",
    "\n",
    "\n",
    "\n",
    "\n",
    "\n",
    "\n",
    "\n"
   ]
  },
  {
   "cell_type": "code",
   "execution_count": null,
   "id": "d0c09c6d",
   "metadata": {},
   "outputs": [],
   "source": []
  },
  {
   "cell_type": "code",
   "execution_count": null,
   "id": "3610d09a",
   "metadata": {},
   "outputs": [],
   "source": []
  }
 ],
 "metadata": {
  "kernelspec": {
   "display_name": "Python 3 (ipykernel)",
   "language": "python",
   "name": "python3"
  },
  "language_info": {
   "codemirror_mode": {
    "name": "ipython",
    "version": 3
   },
   "file_extension": ".py",
   "mimetype": "text/x-python",
   "name": "python",
   "nbconvert_exporter": "python",
   "pygments_lexer": "ipython3",
   "version": "3.10.9"
  }
 },
 "nbformat": 4,
 "nbformat_minor": 5
}
