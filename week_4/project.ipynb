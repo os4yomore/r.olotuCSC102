{
 "cells": [
  {
   "cell_type": "code",
   "execution_count": 25,
   "id": "e23e0af8",
   "metadata": {},
   "outputs": [
    {
     "name": "stdout",
     "output_type": "stream",
     "text": [
      "The table of information for the girls in the class is:\n",
      "Names      Ages Height Scores \n",
      "Samantha   | 17 | 5.5 | 80\n",
      "Jada       | 16 | 6.0 | 85\n",
      "Jane       | 17 | 5.4 | 70\n",
      "Claire     | 18 | 5.9 | 60\n",
      "Elizabeth  | 16 | 5.6 | 76\n",
      "Mary       | 18 | 5.5 | 66\n",
      "Susan      | 17 | 6.1 | 87\n",
      "Waje       | 20 | 6.0 | 95\n",
      "Taibat     | 19 | 5.7 | 50\n",
      "Lilian     | 17 | 5.5 | 49\n",
      "The table of information for the boys in the class is:\n",
      "Names      Ages Height Scores \n",
      "Charles    | 19 | 5.7 | 74\n",
      "Jude       | 16 | 5.9 | 87\n",
      "James      | 18 | 5.8 | 75\n",
      "Kelvin     | 17 | 6.1 | 68\n",
      "Biodun     | 20 | 5.9 | 66\n",
      "Wale       | 19 | 5.5 | 78\n",
      "Kunle      | 16 | 6.1 | 87\n",
      "Matthew    | 18 | 5.4 | 98\n",
      "Tom        | 17 | 5.8 | 54\n",
      "Kayode     | 19 | 5.7 | 60\n"
     ]
    }
   ],
   "source": [
    "#Project 1\n",
    "girls_name = ['Samantha  ', 'Jada      ', 'Jane      ', 'Claire    ', 'Elizabeth ', 'Mary      ', \n",
    "             'Susan     ', 'Waje      ', 'Taibat    ', 'Lilian    ']\n",
    "girls_age = [17,16,17,18,16,18,17,20,19,17]\n",
    "girls_height = [5.5,6.0,5.4,5.9,5.6,5.5,6.1,6.0,5.7,5.5]\n",
    "girls_score = [80,85,70,60,76,66,87,95,50,49]\n",
    "\n",
    "boys_name = ['Charles   ', 'Jude      ', 'James     ', 'Kelvin    ', 'Biodun    ',\n",
    "            'Wale      ', 'Kunle     ', 'Matthew   ', 'Tom       ', 'Kayode    ']\n",
    "boys_age = [19,16,18,17,20,19,16,18,17,19]\n",
    "boys_height = [5.7,5.9,5.8,6.1,5.9,5.5,6.1,5.4,5.8,5.7]\n",
    "boys_score = [74,87,75,68,66,78,87,98,54,60]\n",
    "\n",
    "print(\"The table of information for the girls in the class is:\")\n",
    "print(\"Names      Ages Height Scores \")\n",
    "\n",
    "for num in range(len(girls_age)):\n",
    "    print(girls_name[num],        \"|\",girls_age[num],\"|\",girls_height[num],  \"|\",girls_score[num])\n",
    "         \n",
    "         \n",
    "print(\"The table of information for the boys in the class is:\")\n",
    "print(\"Names      Ages Height Scores \")\n",
    "\n",
    "for num in range(len(boys_age)):\n",
    "    print(boys_name[num],        \"|\",boys_age[num],\"|\",boys_height[num],  \"|\",boys_score[num])\n",
    "         \n",
    "         \n",
    "          \n",
    "          \n",
    "          \n",
    "          \n",
    "          \n",
    "          \n",
    "         "
   ]
  },
  {
   "cell_type": "code",
   "execution_count": 35,
   "id": "db18e4f4",
   "metadata": {},
   "outputs": [
    {
     "name": "stdout",
     "output_type": "stream",
     "text": [
      "Welcome to the Staff Annual Tax Revenue (ATR) calculator.\n",
      "What is your age?10\n",
      "How many years of experience do you have? 1\n",
      "Your Annual Tax Revenue (ATR) is N550,000.\n"
     ]
    }
   ],
   "source": [
    "#Project 2\n",
    "print(\"Welcome to the Staff Annual Tax Revenue (ATR) calculator.\")\n",
    "\n",
    "a = int(input('What is your age?'))\n",
    "b = int(input('How many years of experience do you have? '))\n",
    "\n",
    "if a >= 55 and b >= 25:\n",
    "    print('Your Annual Tax Revenue (ATR) is N5,600,000.')\n",
    "    \n",
    "elif a >= 45 and b >= 20:\n",
    "    print('Your Annual Tax Revenue (ATR) is N4,800,000.')\n",
    "    \n",
    "elif a >= 35 and b >= 10:\n",
    "    print('Your Annual Tax Revenue (ATR) is N1,500,000.')\n",
    "    \n",
    "else:\n",
    "    print('Your Annual Tax Revenue (ATR) is N550,000.')\n",
    "    \n",
    "\n",
    "\n",
    "\n",
    "\n",
    "\n",
    "\n",
    "\n",
    "\n",
    "\n",
    "\n",
    "\n",
    "\n"
   ]
  },
  {
   "cell_type": "code",
   "execution_count": null,
   "id": "6c6dc5e0",
   "metadata": {},
   "outputs": [],
   "source": []
  },
  {
   "cell_type": "code",
   "execution_count": null,
   "id": "7adf71da",
   "metadata": {},
   "outputs": [],
   "source": []
  }
 ],
 "metadata": {
  "kernelspec": {
   "display_name": "Python 3 (ipykernel)",
   "language": "python",
   "name": "python3"
  },
  "language_info": {
   "codemirror_mode": {
    "name": "ipython",
    "version": 3
   },
   "file_extension": ".py",
   "mimetype": "text/x-python",
   "name": "python",
   "nbconvert_exporter": "python",
   "pygments_lexer": "ipython3",
   "version": "3.10.9"
  }
 },
 "nbformat": 4,
 "nbformat_minor": 5
}
