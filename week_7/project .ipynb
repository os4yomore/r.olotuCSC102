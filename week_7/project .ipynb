{
 "cells": [
  {
   "cell_type": "code",
   "execution_count": 48,
   "id": "8a437588",
   "metadata": {},
   "outputs": [
    {
     "name": "stdout",
     "output_type": "stream",
     "text": [
      "Welcome to the JT Ventures Database Application.\n",
      "Note: Login Credentials are case-sensitive\n",
      "Please input your first name(Capitalize first Letter): Oluwatamilore\n",
      "Please input your last name (Capitalize all letters): EZE\n",
      "Please input your department name(Capitalise first letter): Logistics\n",
      "This employee does not exist\n"
     ]
    }
   ],
   "source": [
    "#project 1\n",
    "import pandas as pd\n",
    "print(\"Welcome to the JT Ventures Database Application.\")\n",
    "print(\"Note: Login Credentials are case-sensitive\")\n",
    "firstname = input(\"Please input your first name(Capitalize first Letter): \")\n",
    "lastname = input(\"Please input your last name (Capitalize all letters): \")\n",
    "department = input (\"Please input your department name(Capitalise first letter): \")\n",
    "\n",
    "def authorization(firstname, lastname, department):\n",
    "    data = pd.read_csv(\"jt-ventures.csv\")\n",
    "    if ((data['FIRST NAME'] == firstname) & (data['SURNAME'] == lastname) & (data['DEPARTMENT'] == department)).any():\n",
    "        print('Access granted.')\n",
    "        data = pd.read_csv(\"jt-ventures.csv\")\n",
    "        print(data)\n",
    "    else:\n",
    "        print('This employee does not exist.') \n",
    "    return\n",
    "\n",
    "authorization(firstname, lastname, department)\n",
    "\n",
    "\n",
    "        "
   ]
  },
  {
   "cell_type": "code",
   "execution_count": 47,
   "id": "c82d749a",
   "metadata": {},
   "outputs": [
    {
     "name": "stdout",
     "output_type": "stream",
     "text": [
      "Welcome to Yega Delivery Services\n",
      "Please input the weight of your package: 2.6\n",
      "Please click 1 if delivery is to Ibeju-Lekki, and click 2 if delivery is to Epe: 2\n",
      "The delivery fee is N4000\n"
     ]
    }
   ],
   "source": [
    "#Project 2\n",
    "print('Welcome to Yega Delivery Services')\n",
    "weight = float(input(\"Please input the weight of your package: \"))\n",
    "location = int(input(\"Please click 1 if delivery is to Ibeju-Lekki, and click 2 if delivery is to Epe: \"))\n",
    "\n",
    "def pricingfunction(weight, location):\n",
    "    if weight >= 10 and location == 1:\n",
    "        print(\"The delivery fee is N2000\")\n",
    "    elif weight < 10 and location == 1:\n",
    "        print(\"The delivery fee is N1500\")\n",
    "    elif weight >= 10 and location == 2:\n",
    "        print(\"The delivery fee is N5000\")\n",
    "    elif weight < 10 and location == 2:\n",
    "        print(\"The delivery fee is N4000\")\n",
    "    return\n",
    "\n",
    "pricingfunction(weight, location)\n",
    "            "
   ]
  },
  {
   "cell_type": "code",
   "execution_count": 102,
   "id": "b26024c8",
   "metadata": {},
   "outputs": [
    {
     "name": "stdout",
     "output_type": "stream",
     "text": [
      "Welcome User to the Admissions Department Application\n",
      "How many candidates intend to use this program? 2\n",
      "Click 1 if you seek admission to the Computer Science Department, and 2 for the Mass Communication Department: 1\n",
      "Please input your name: Ruth Olotu\n",
      "Please insert your aggregate JAMB score: 321\n",
      "For the following question, answer successful or unsuccessful\n",
      "Were you successful in your final examinations? (Did you have at least 5 credits in WASSCE/NECO/GCE Examination(s) including Mathematics and English Language?)successful\n",
      "For the following question, answer successful or unsusccessful\n",
      "Were you successful or unsuccessful in the interview portion of the admission process? successful\n",
      "Congratulations on your admission!\n",
      "Click 1 if you seek admission to the Computer Science Department, and 2 for the Mass Communication Department: 2\n",
      "Please input your name: Oluwafunmilola Ige\n",
      "Please insert your aggregate JAMB score: 218\n",
      "For the following question, answer successful or unsuccessful\n",
      "Were you successful in your final examinations? (Did you have at least 5 credits in WASSCE/NECO/GCE Examination(s) including Mathematics and English Language?)successful\n",
      "For the following question, answer successful or unsusccessful\n",
      "Were you successful or unsuccessful in the interview portion of the admission process? unsuccessful\n",
      "Unfortunately, you cannot be accepted into this program\n"
     ]
    }
   ],
   "source": [
    "#Project 3\n",
    "import pandas as pd\n",
    "print('Welcome User to the Admissions Department Application')\n",
    "#creating an empty list to store data for all possible iterations\n",
    "all_records = []\n",
    "number = int(input('How many candidates intend to use this program? '))\n",
    "\n",
    "for x in range(number): \n",
    "    course = input(\"Click 1 if you seek admission to the Computer Science Department, and 2 for the Mass Communication Department: \")\n",
    "    if course == '1':\n",
    "        records = computerscience()\n",
    "    elif course == '2':\n",
    "        records = masscommunication()\n",
    "    #this is a list used to store the 'records' dictionary containing student info    \n",
    "    all_records.append(records)\n",
    "\n",
    "\n",
    "\n",
    "    \n",
    "        \n",
    "\n",
    "def computerscience():\n",
    "    name = input(\"Please input your name: \")\n",
    "    score = int(input(\"Please insert your aggregate JAMB score: \"))\n",
    "    print(\"For the following question, answer successful or unsuccessful\")\n",
    "    waec = input(\"Were you successful in your final examinations? (Did you have at least 5 credits in WASSCE/NECO/GCE Examination(s) including Mathematics and English Language?)\")\n",
    "    print(\"For the following question, answer successful or unsusccessful\")\n",
    "    interview = input(\"Were you successful or unsuccessful in the interview portion of the admission process? \")\n",
    "    \n",
    "    if score >= 230 and waec == 'successful' and interview == 'successful':\n",
    "        print(\"Congratulations on your admission!\")\n",
    "        records = {'Name' : [name], 'Course' : [\"Computer Science\"] , 'Score' : [score], 'Examination Status' : [waec], 'Interview Status' : [interview]}\n",
    "        df = pd.DataFrame(records)\n",
    "        df.to_csv('admitted.csv')\n",
    "    else:\n",
    "            print(\"Unfortunately, you cannot be accepted into this program\")\n",
    "            records = {'Name': [name], 'Course' : [\"Computer Science\"], 'Score' : [score], 'Examination Status' : [waec], 'Interview Status' : [interview]}\n",
    "            df = pd.DataFrame(records)\n",
    "            df.to_csv('not-admitted.csv')\n",
    "    return \n",
    "\n",
    "def masscommunication():\n",
    "    name = input(\"Please input your name: \")\n",
    "    score = int(input(\"Please insert your aggregate JAMB score: \"))\n",
    "    print(\"For the following question, answer successful or unsuccessful\")\n",
    "    waec = input(\"Were you successful in your final examinations? (Did you have at least 5 credits in WASSCE/NECO/GCE Examination(s) including Mathematics and English Language?)\")\n",
    "    print(\"For the following question, answer successful or unsusccessful\")\n",
    "    interview = input(\"Were you successful or unsuccessful in the interview portion of the admission process? \")\n",
    "    \n",
    "    if score >= 220 and waec == 'successful' and interview == 'successful':\n",
    "        print(\"Congratulations on your admission!\")\n",
    "        records = {'Name' : [name], 'Course' : [\"Mass Communication\"], 'Score' : [score], 'Examination Status' : [waec], 'Interview Status' : [interview]}\n",
    "        df = pd.DataFrame(records)\n",
    "        df.to_csv('admitted.csv')\n",
    "    else:\n",
    "            print(\"Unfortunately, you cannot be accepted into this program\")\n",
    "            records = {'Name': [name], 'Course' : [\"Mass Communication\"], 'Score' : [score], 'Examination Status' : [waec], 'Interview Status' : [interview]}\n",
    "            df = pd.DataFrame(records)\n",
    "            df.to_csv('not-admitted.csv')\n",
    "    return \n",
    "\n",
    "\n",
    "               \n",
    "               \n",
    "               "
   ]
  },
  {
   "cell_type": "code",
   "execution_count": null,
   "id": "3c6571f3",
   "metadata": {},
   "outputs": [],
   "source": []
  },
  {
   "cell_type": "code",
   "execution_count": null,
   "id": "ef40c81c",
   "metadata": {},
   "outputs": [],
   "source": []
  }
 ],
 "metadata": {
  "kernelspec": {
   "display_name": "Python 3 (ipykernel)",
   "language": "python",
   "name": "python3"
  },
  "language_info": {
   "codemirror_mode": {
    "name": "ipython",
    "version": 3
   },
   "file_extension": ".py",
   "mimetype": "text/x-python",
   "name": "python",
   "nbconvert_exporter": "python",
   "pygments_lexer": "ipython3",
   "version": "3.10.9"
  }
 },
 "nbformat": 4,
 "nbformat_minor": 5
}
