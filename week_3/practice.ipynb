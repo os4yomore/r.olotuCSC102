{
 "cells": [
  {
   "cell_type": "code",
   "execution_count": 1,
   "id": "67360004-1f4f-472b-8b6b-7b96785e2f28",
   "metadata": {},
   "outputs": [
    {
     "name": "stdin",
     "output_type": "stream",
     "text": [
      "Enter your state of origin: Edo\n"
     ]
    },
    {
     "name": "stdout",
     "output_type": "stream",
     "text": [
      "Your state of origin is:  Edo\n",
      "The first character is:  E\n",
      "The characters starting from 3rd to 5th are:  o\n",
      "The characters starting for the 3rd character are:  o\n",
      "The state of origin 2 times is EdoEdo\n"
     ]
    }
   ],
   "source": [
    "str = input(\"Enter your state of origin:\")\n",
    "\n",
    "print(\"Your state of origin is: \", str)\n",
    "print(\"The first character is: \", str[0])\n",
    "print(\"The characters starting from 3rd to 5th are: \", str[2:5])\n",
    "print(\"The characters starting for the 3rd character are: \", str[2:])\n",
    "print(\"The state of origin 2 times is\", str * 2)"
   ]
  },
  {
   "cell_type": "code",
   "execution_count": 7,
   "id": "3c3929ed-dd02-4430-9212-bfc4b399b992",
   "metadata": {},
   "outputs": [
    {
     "name": "stdin",
     "output_type": "stream",
     "text": [
      "Enter mass in Kilograms:  2\n"
     ]
    },
    {
     "name": "stdout",
     "output_type": "stream",
     "text": [
      "The energy equivalent to 2.0 kg of mass is 1.7975103574736352e+17 joules.\n"
     ]
    }
   ],
   "source": [
    "m = float(input(\"Enter mass in Kilograms: \"))\n",
    "\n",
    "c = 299792458\n",
    "energy = m * c ** 2\n",
    "print(f\"The energy equivalent to {m} kg of mass is {energy} joules.\")"
   ]
  },
  {
   "cell_type": "code",
   "execution_count": 8,
   "id": "b567d012-f03c-4385-8dcd-97b2fa2297cf",
   "metadata": {},
   "outputs": [
    {
     "name": "stdout",
     "output_type": "stream",
     "text": [
      "['Anacoda', 768, 2.23, 'Jupyter', 70.2]\n",
      "Anacoda\n",
      "[768, 2.23]\n",
      "[2.23, 'Jupyter', 70.2]\n",
      "[321, 'Python', 321, 'Python']\n",
      "['Anacoda', 768, 2.23, 'Jupyter', 70.2, 321, 'Python']\n"
     ]
    }
   ],
   "source": [
    "list = ['Anacoda', 768, 2.23, 'Jupyter', 70.2]\n",
    "shortlist = [321, 'Python']\n",
    "\n",
    "print(list)\n",
    "print(list[0])\n",
    "print(list[1:3])\n",
    "print(list[2:])\n",
    "print(shortlist * 2)\n",
    "print(list + shortlist)"
   ]
  },
  {
   "cell_type": "code",
   "execution_count": 9,
   "id": "b6857072-18cc-430c-b4f2-1ebffbb92ae5",
   "metadata": {},
   "outputs": [
    {
     "name": "stdout",
     "output_type": "stream",
     "text": [
      "('Ekiti', 750, 'Oshogbo', 250, 'Akure', 500)\n",
      "500\n",
      "('Oshogbo', 250)\n",
      "(250, 'Akure', 500)\n",
      "('Abeokuta', 300, 'Ogbomoso', 'Abeokuta', 300, 'Ogbomoso', 'Abeokuta', 300, 'Ogbomoso')\n",
      "('Ekiti', 750, 'Oshogbo', 250, 'Akure', 500, 'Abeokuta', 300, 'Ogbomoso')\n"
     ]
    }
   ],
   "source": [
    "tuple = ('Ekiti', 750, 'Oshogbo', 250, 'Akure', 500)\n",
    "s_tuple = ('Abeokuta', 300, 'Ogbomoso')\n",
    "\n",
    "print(tuple)\n",
    "print(tuple[-1])\n",
    "print(tuple[2:4])\n",
    "print(tuple[3:])\n",
    "print(s_tuple * 3)\n",
    "print(tuple + s_tuple)"
   ]
  },
  {
   "cell_type": "code",
   "execution_count": 10,
   "id": "c77fcf23-81cc-4df4-b94b-6c29b138de7c",
   "metadata": {},
   "outputs": [
    {
     "name": "stdout",
     "output_type": "stream",
     "text": [
      "False\n",
      "False\n",
      "False\n",
      "False\n",
      "True\n"
     ]
    }
   ],
   "source": [
    "game_1 = 2\n",
    "game_2 = 4\n",
    "print(bool(game_1 == game_2))\n",
    "print(game_1 == game_2)\n",
    "\n",
    "val = None\n",
    "print(bool(val))\n",
    "\n",
    "num = ()\n",
    "print(bool(num))\n",
    "\n",
    "age = True\n",
    "print(bool(age))"
   ]
  },
  {
   "cell_type": "code",
   "execution_count": 11,
   "id": "508750ee-f545-4d0d-aafb-0f547950180a",
   "metadata": {},
   "outputs": [
    {
     "name": "stdout",
     "output_type": "stream",
     "text": [
      "Grade = 70\n",
      "GPA = 4\n",
      "CGPA = 4\n"
     ]
    }
   ],
   "source": [
    "grade = int(70)\n",
    "gpa = int(4.9)\n",
    "cgpa = int('4')\n",
    "\n",
    "print(f\"Grade = {grade}\")\n",
    "print(f\"GPA = {gpa}\")\n",
    "print(f\"CGPA = {cgpa}\")"
   ]
  },
  {
   "cell_type": "code",
   "execution_count": 19,
   "id": "39b91638-ba9d-40b5-9cca-d80b0916eb07",
   "metadata": {},
   "outputs": [
    {
     "name": "stdout",
     "output_type": "stream",
     "text": [
      "Grade = 97.0\n",
      "GPA = 5.0\n",
      "CGPA = 4.7\n"
     ]
    }
   ],
   "source": [
    "grade = float(97)\n",
    "gpa = float(5)\n",
    "cgpa = float(\"4.7\")\n",
    "\n",
    "print(f\"Grade = {grade}\")\n",
    "print(f\"GPA = {gpa}\")\n",
    "print(f\"CGPA = {cgpa}\")"
   ]
  },
  {
   "cell_type": "code",
   "execution_count": null,
   "id": "27ebaf08-c922-4e10-a8e6-9958d39a7419",
   "metadata": {},
   "outputs": [],
   "source": []
  }
 ],
 "metadata": {
  "kernelspec": {
   "display_name": "Python 3 (ipykernel)",
   "language": "python",
   "name": "python3"
  },
  "language_info": {
   "codemirror_mode": {
    "name": "ipython",
    "version": 3
   },
   "file_extension": ".py",
   "mimetype": "text/x-python",
   "name": "python",
   "nbconvert_exporter": "python",
   "pygments_lexer": "ipython3",
   "version": "3.10.9"
  }
 },
 "nbformat": 4,
 "nbformat_minor": 5
}
