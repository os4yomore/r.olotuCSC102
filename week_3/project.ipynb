{
 "cells": [
  {
   "cell_type": "code",
   "execution_count": 40,
   "id": "1489a4af-713e-4581-9f57-35a04f1274ab",
   "metadata": {},
   "outputs": [
    {
     "name": "stdout",
     "output_type": "stream",
     "text": [
      "Welcome to the Quadratic Equation Solver. A Quadratic Equation has the general form of ax^2 + bx + c = 0\n",
      "To find the roots of a quadratic equation, type in the corresponding values of a, b, and c to the nearest hundredth\n"
     ]
    },
    {
     "name": "stdin",
     "output_type": "stream",
     "text": [
      "What is the value of a? 2\n",
      "What is the value of b? 2\n",
      "What is the value of c? 2\n"
     ]
    },
    {
     "name": "stdout",
     "output_type": "stream",
     "text": [
      "The roots of this equation are imaginary\n"
     ]
    }
   ],
   "source": [
    "#Quadratic equation solver\n",
    "import math\n",
    "import cmath\n",
    "print(\"Welcome to the Quadratic Equation Solver. A Quadratic Equation has the general form of ax^2 + bx + c = 0\")\n",
    "print(\"To find the roots of a quadratic equation, type in the corresponding values of a, b, and c to the nearest hundredth\")\n",
    "\n",
    "a = float(input(\"What is the value of a?\"))\n",
    "b = float(input(\"What is the value of b?\"))\n",
    "c = float(input(\"What is the value of c?\"))\n",
    "z = (b * b - 4 * a * c)\n",
    "if z < 0:\n",
    " print(\"The roots of this equation are imaginary\")\n",
    "else:\n",
    " d = math.sqrt(z)\n",
    "e = ((-1 * b) + d)/2 * a\n",
    "f = ((-1 * b) - d)/2 * a\n",
    "if z == 0:\n",
    "  print(f\"The real and equal roots of this equation are {e} and {f}\")\n",
    "elif z > 0:\n",
    " print(f\"The real and distinct roots of this equation are {e} and {f}\")\n",
    " "
   ]
  },
  {
   "cell_type": "code",
   "execution_count": null,
   "id": "f1e3e61c-246a-48ef-9961-b6d237094cb2",
   "metadata": {
    "tags": []
   },
   "outputs": [
    {
     "name": "stdout",
     "output_type": "stream",
     "text": [
      "Welcome to the Cubic Equation Solver. A Cubic Equation has the general form of ax^3 + bx^2 + cx + d = 0\n",
      "To find the roots of a cubic equation, type in the corresponding values of a, b, c, and d to the nearest hundredth\n"
     ]
    }
   ],
   "source": [
    "#Cubic equation solver\n",
    "import math\n",
    "import cmath\n",
    "print(\"Welcome to the Cubic Equation Solver. A Cubic Equation has the general form of ax^3 + bx^2 + cx + d = 0\")\n",
    "print(\"To find the roots of a cubic equation, type in the corresponding values of a, b, c, and d to the nearest hundredth\")\n",
    "\n",
    "a = float(input(\"What is the value of a?\"))\n",
    "b = float(input(\"What is the value of b?\"))\n",
    "c = float(input(\"What is the value of c?\"))\n",
    "d = float(input(\"What is the value of d?\"))\n",
    "\n",
    "discriminant = (b * c)**2 - 4*(a * c ** 3) - 4*(d * b ** 3) - 27*(a*d)**2 + 18*(a*b*c*d)\n",
    "\n",
    "# Compute the coefficients of the depressed cubic equation\n",
    "p = (3*a*c - b**2) / (3*a**2)\n",
    "q = (2*b**3 - 9*a*b*c + 27*a**2*d) / (27*a**3)\n",
    "\n",
    "# Compute the discriminant of the depressed cubic equation\n",
    "dd = q**2 / 4 + p**3 / 27\n",
    "\n",
    "if discriminant > 0:\n",
    " # Case 1: The cubic equation has three real roots\n",
    "    if dd < 0:\n",
    "            u = math.cbrt((-q + math.sqrt(dd)) / 2)\n",
    "            v = math.cbrt((-q - math.sqrt(dd)) / 2)\n",
    "            x1 = u + v - b / (3*a)\n",
    "            x2 = -(u + v) / 2 - b / (3*a) + (u - v) * math.sqrt(3) / 2\n",
    "            x3 = -(u + v) / 2 - b / (3*a) - (u - v) * math.sqrt(3) / 2\n",
    "            \n",
    "        # Case 2: The cubic equation has one real root and a pair of complex conjugate roots\n",
    "    else:\n",
    "            u = math.cbrt(-q / 2 + math.sqrt(dd))\n",
    "            v = math.cbrt(-q / 2 - math.sqrt(dd))\n",
    "            x1 = u + v - b / (3*a)\n",
    "            x2_real = -(u + v) / 2 - b / (3*a)\n",
    "            x2_imag = (u - v) * math.sqrt(3) / 2\n",
    "            x3_real = x2_real\n",
    "            x3_imag = -x2_imag\n",
    "            \n",
    "    # Case 3: The cubic equation has three real roots, at least two of which are equal\n",
    "elif discriminant == 0:\n",
    "         if q >= 0:\n",
    "            x1 = -2*math.cbrt(q) - b / (3*a)\n",
    "            x2 = math.cbrt(q) - b / (3*a)\n",
    "            x3 = x2\n",
    "         else:\n",
    "            x1 = math.cbrt(-q) - b / (3*a)\n",
    "            x2 = x3 = -math.cbrt(-q) - b / (3*a)\n",
    "            \n",
    "    # Case 4: The cubic equation has three real roots, all of which are equal\n",
    "else: x1 = x2 = x3 = -b / (3*a)\n",
    "\n",
    "print(f\"The roots of the cubic equation are {x1}, {x2}, and {x3}\")\n",
    "\n"
   ]
  },
  {
   "cell_type": "markdown",
   "id": "0cd6e187-6d16-400f-ab59-1817302def06",
   "metadata": {},
   "source": []
  }
 ],
 "metadata": {
  "kernelspec": {
   "display_name": "Python 3 (ipykernel)",
   "language": "python",
   "name": "python3"
  },
  "language_info": {
   "codemirror_mode": {
    "name": "ipython",
    "version": 3
   },
   "file_extension": ".py",
   "mimetype": "text/x-python",
   "name": "python",
   "nbconvert_exporter": "python",
   "pygments_lexer": "ipython3",
   "version": "3.10.9"
  }
 },
 "nbformat": 4,
 "nbformat_minor": 5
}
